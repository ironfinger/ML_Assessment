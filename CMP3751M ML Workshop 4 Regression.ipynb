{
 "cells": [
  {
   "cell_type": "markdown",
   "metadata": {},
   "source": [
    "Machine Learning 2020 - 2021 <br>\n",
    "Week 4 - Workshop on Regression <br>\n",
    "Lecturer: Bashir Al-Diri <br>\n",
    "\n",
    "\n",
    "# Machine Learning Workshop: Week 4\n",
    "\n",
    "This week we will use sklearn package to investigate the performance of some regressors you learned in the last lecture. We will practise model evaluation, cross validation, and model selection\n",
    "\n",
    "Please read over the whole notebook. It contains several excercises that you have to complete. "
   ]
  },
  {
   "cell_type": "code",
   "execution_count": 1,
   "metadata": {},
   "outputs": [],
   "source": [
    "# import all the packages needed for this workshop\n",
    "\n",
    "from sklearn.model_selection import KFold\n",
    "from sklearn.metrics import mean_squared_error, r2_score\n",
    "from sklearn.linear_model import LinearRegression\n",
    "from sklearn.linear_model import Ridge\n",
    "# from sklearn import svm\n",
    "from sklearn.model_selection import cross_val_score\n",
    "from sklearn.model_selection import train_test_split\n",
    "import numpy as np\n",
    "import pandas as pd\n",
    "import matplotlib.pyplot as plt\n",
    "import warnings\n",
    "warnings.filterwarnings(\"ignore\")\n",
    "# warnings.filterwarnings(\"ignore\", category=FutureWarning, module=\"sklearn\", lineno=196)"
   ]
  },
  {
   "cell_type": "markdown",
   "metadata": {},
   "source": [
    "# An Example\n",
    "\n",
    "This example shows you how to create a linear regression model for the diabeties dataset. Observe closely how the regressor is created and how the performance is evaluated. You will be asked to do similar things on another dataset used in excercises.\n"
   ]
  },
  {
   "cell_type": "markdown",
   "metadata": {},
   "source": [
    "Load dataset and show data frame"
   ]
  },
  {
   "cell_type": "code",
   "execution_count": 3,
   "metadata": {
    "scrolled": false
   },
   "outputs": [
    {
     "name": "stdout",
     "output_type": "stream",
     "text": [
      "        age       sex       bmi        bp        s1        s2        s3  \\\n",
      "0  0.038076  0.050680  0.061696  0.021872 -0.044223 -0.034821 -0.043401   \n",
      "1 -0.001882 -0.044642 -0.051474 -0.026328 -0.008449 -0.019163  0.074412   \n",
      "2  0.085299  0.050680  0.044451 -0.005671 -0.045599 -0.034194 -0.032356   \n",
      "3 -0.089063 -0.044642 -0.011595 -0.036656  0.012191  0.024991 -0.036038   \n",
      "4  0.005383 -0.044642 -0.036385  0.021872  0.003935  0.015596  0.008142   \n",
      "\n",
      "         s4        s5        s6  \n",
      "0 -0.002592  0.019908 -0.017646  \n",
      "1 -0.039493 -0.068330 -0.092204  \n",
      "2 -0.002592  0.002864 -0.025930  \n",
      "3  0.034309  0.022692 -0.009362  \n",
      "4 -0.002592 -0.031991 -0.046641  \n"
     ]
    },
    {
     "data": {
      "text/plain": [
       "(442, 10)"
      ]
     },
     "execution_count": 3,
     "metadata": {},
     "output_type": "execute_result"
    }
   ],
   "source": [
    "from sklearn.datasets import load_diabetes\n",
    "Dibs = load_diabetes()\n",
    "X = Dibs.data\n",
    "Y = Dibs.target\n",
    "df = pd.DataFrame(X)\n",
    "df.columns = Dibs.feature_names\n",
    "print(df.head())\n",
    "\n",
    "X.shape"
   ]
  },
  {
   "cell_type": "markdown",
   "metadata": {},
   "source": [
    "Divide dataset into  a train set and a test set, the test set size is 20 \\% of the total data"
   ]
  },
  {
   "cell_type": "code",
   "execution_count": 7,
   "metadata": {},
   "outputs": [
    {
     "data": {
      "text/plain": [
       "((353, 10), (89, 10))"
      ]
     },
     "execution_count": 7,
     "metadata": {},
     "output_type": "execute_result"
    }
   ],
   "source": [
    "X_train,X_test,Y_train,Y_test = train_test_split(X,Y, test_size=0.2)\n",
    "\n",
    "X_train.shape ,X_test.shape\n",
    "#442*2/10 = 884/10"
   ]
  },
  {
   "cell_type": "markdown",
   "metadata": {},
   "source": [
    "Create linear regressor, train the model, then make predictions for the test data"
   ]
  },
  {
   "cell_type": "code",
   "execution_count": 8,
   "metadata": {},
   "outputs": [],
   "source": [
    "algo = LinearRegression()\n",
    "algo.fit(X_train,Y_train)\n",
    "Y_pred = algo.predict(X_test)"
   ]
  },
  {
   "cell_type": "markdown",
   "metadata": {},
   "source": [
    "Evaluate the model on the train set and test set, respectively\n",
    "\n",
    "Note: algo.score returns R squared value\n"
   ]
  },
  {
   "cell_type": "code",
   "execution_count": 9,
   "metadata": {},
   "outputs": [
    {
     "name": "stdout",
     "output_type": "stream",
     "text": [
      "0.5089670475878949 0.5155477548618941\n"
     ]
    }
   ],
   "source": [
    "s1=algo.score(X_train,Y_train)\n",
    "s2=algo.score(X_test, Y_test)\n",
    "print(s1, s2)"
   ]
  },
  {
   "cell_type": "markdown",
   "metadata": {},
   "source": [
    "Now do 5-fold cross validation using the cross_val_score function.  Think about which performance score you should use. Go to https://scikit-learn.org/stable/modules/model_evaluation.html and see alternative scoring parameterss."
   ]
  },
  {
   "cell_type": "code",
   "execution_count": 10,
   "metadata": {},
   "outputs": [
    {
     "name": "stdout",
     "output_type": "stream",
     "text": [
      "The mean of r2: \n",
      "0.48231812211149394\n"
     ]
    }
   ],
   "source": [
    "# we choose R squared metric here\n",
    "\n",
    "print(\"The mean of r2: \")\n",
    "print(cross_val_score(algo, X, Y, scoring='r2', cv = 5).mean())"
   ]
  },
  {
   "cell_type": "markdown",
   "metadata": {},
   "source": [
    "Visualize the test set and the prediction in  a scatter plot"
   ]
  },
  {
   "cell_type": "code",
   "execution_count": 11,
   "metadata": {
    "scrolled": false
   },
   "outputs": [
    {
     "data": {
      "image/png": "[encoded data removed]",
      "text/plain": [
       "<Figure size 432x288 with 1 Axes>"
      ]
     },
     "metadata": {
      "needs_background": "light"
     },
     "output_type": "display_data"
    }
   ],
   "source": [
    "plt.scatter(Y_pred,Y_test, color='black')\n",
    "plt.plot(Y_test, Y_test,  color='blue', linewidth=3)\n",
    "plt.show()"
   ]
  },
  {
   "cell_type": "markdown",
   "metadata": {},
   "source": [
    "Visualise absolute error by boxplot and density plot"
   ]
  },
  {
   "cell_type": "code",
   "execution_count": 12,
   "metadata": {},
   "outputs": [
    {
     "data": {
      "text/plain": [
       "<matplotlib.axes._subplots.AxesSubplot at 0x7fc2707e1940>"
      ]
     },
     "execution_count": 12,
     "metadata": {},
     "output_type": "execute_result"
    },
    {
     "data": {
      "image/png": "[encoded data removed]",
      "text/plain": [
       "<Figure size 432x288 with 1 Axes>"
      ]
     },
     "metadata": {
      "needs_background": "light"
     },
     "output_type": "display_data"
    }
   ],
   "source": [
    "# box plot\n",
    "abs_error=abs(Y_test-Y_pred)\n",
    "df = pd.DataFrame({'error':abs_error})\n",
    "df.boxplot(grid=True)\n",
    "#Understanding and interpreting box plots\n",
    "#https://www.wellbeingatschool.org.nz/information-sheet/understanding-and-interpreting-box-plots"
   ]
  },
  {
   "cell_type": "code",
   "execution_count": 13,
   "metadata": {},
   "outputs": [
    {
     "data": {
      "text/plain": [
       "<matplotlib.axes._subplots.AxesSubplot at 0x7fc2518c35e0>"
      ]
     },
     "execution_count": 13,
     "metadata": {},
     "output_type": "execute_result"
    },
    {
     "data": {
      "image/png": "[encoded data removed]",
      "text/plain": [
       "<Figure size 432x288 with 1 Axes>"
      ]
     },
     "metadata": {
      "needs_background": "light"
     },
     "output_type": "display_data"
    }
   ],
   "source": [
    "# density plot\n",
    "#Seaborn is a Python data visualization library based on matplotlib.\n",
    "#https://seaborn.pydata.org\n",
    "import seaborn as sn\n",
    "sn.kdeplot(df['error'], shade=True)\n",
    "#A kernel density estimate (KDE) plot is a method for visualizing the distribution of observations in a dataset, \n",
    "#analagous to a histogram. KDE represents the data using a continuous probability density curve in one or more dimensions.\n",
    "#https://seaborn.pydata.org/generated/seaborn.kdeplot.html?highlight=kdeplot#seaborn.kdeplot\n"
   ]
  },
  {
   "cell_type": "markdown",
   "metadata": {},
   "source": [
    "---------------------------------------------------------------------------------------\n",
    "\n",
    "\n",
    "\n",
    "# Excercises\n",
    "\n",
    "Now you are asked to do regression on boston dataset using two different regressors"
   ]
  },
  {
   "cell_type": "code",
   "execution_count": 14,
   "metadata": {},
   "outputs": [
    {
     "name": "stdout",
     "output_type": "stream",
     "text": [
      ".. _boston_dataset:\n",
      "\n",
      "Boston house prices dataset\n",
      "---------------------------\n",
      "\n",
      "**Data Set Characteristics:**  \n",
      "\n",
      "    :Number of Instances: 506 \n",
      "\n",
      "    :Number of Attributes: 13 numeric/categorical predictive. Median Value (attribute 14) is usually the target.\n",
      "\n",
      "    :Attribute Information (in order):\n",
      "        - CRIM     per capita crime rate by town\n",
      "        - ZN       proportion of residential land zoned for lots over 25,000 sq.ft.\n",
      "        - INDUS    proportion of non-retail business acres per town\n",
      "        - CHAS     Charles River dummy variable (= 1 if tract bounds river; 0 otherwise)\n",
      "        - NOX      nitric oxides concentration (parts per 10 million)\n",
      "        - RM       average number of rooms per dwelling\n",
      "        - AGE      proportion of owner-occupied units built prior to 1940\n",
      "        - DIS      weighted distances to five Boston employment centres\n",
      "        - RAD      index of accessibility to radial highways\n",
      "        - TAX      full-value property-tax rate per $10,000\n",
      "        - PTRATIO  pupil-teacher ratio by town\n",
      "        - B        1000(Bk - 0.63)^2 where Bk is the proportion of blacks by town\n",
      "        - LSTAT    % lower status of the population\n",
      "        - MEDV     Median value of owner-occupied homes in $1000's\n",
      "\n",
      "    :Missing Attribute Values: None\n",
      "\n",
      "    :Creator: Harrison, D. and Rubinfeld, D.L.\n",
      "\n",
      "This is a copy of UCI ML housing dataset.\n",
      "https://archive.ics.uci.edu/ml/machine-learning-databases/housing/\n",
      "\n",
      "\n",
      "This dataset was taken from the StatLib library which is maintained at Carnegie Mellon University.\n",
      "\n",
      "The Boston house-price data of Harrison, D. and Rubinfeld, D.L. 'Hedonic\n",
      "prices and the demand for clean air', J. Environ. Economics & Management,\n",
      "vol.5, 81-102, 1978.   Used in Belsley, Kuh & Welsch, 'Regression diagnostics\n",
      "...', Wiley, 1980.   N.B. Various transformations are used in the table on\n",
      "pages 244-261 of the latter.\n",
      "\n",
      "The Boston house-price data has been used in many machine learning papers that address regression\n",
      "problems.   \n",
      "     \n",
      ".. topic:: References\n",
      "\n",
      "   - Belsley, Kuh & Welsch, 'Regression diagnostics: Identifying Influential Data and Sources of Collinearity', Wiley, 1980. 244-261.\n",
      "   - Quinlan,R. (1993). Combining Instance-Based and Model-Based Learning. In Proceedings on the Tenth International Conference of Machine Learning, 236-243, University of Massachusetts, Amherst. Morgan Kaufmann.\n",
      "\n",
      "<class 'pandas.core.frame.DataFrame'>\n",
      "RangeIndex: 506 entries, 0 to 505\n",
      "Data columns (total 13 columns):\n",
      " #   Column   Non-Null Count  Dtype  \n",
      "---  ------   --------------  -----  \n",
      " 0   CRIM     506 non-null    float64\n",
      " 1   ZN       506 non-null    float64\n",
      " 2   INDUS    506 non-null    float64\n",
      " 3   CHAS     506 non-null    float64\n",
      " 4   NOX      506 non-null    float64\n",
      " 5   RM       506 non-null    float64\n",
      " 6   AGE      506 non-null    float64\n",
      " 7   DIS      506 non-null    float64\n",
      " 8   RAD      506 non-null    float64\n",
      " 9   TAX      506 non-null    float64\n",
      " 10  PTRATIO  506 non-null    float64\n",
      " 11  B        506 non-null    float64\n",
      " 12  LSTAT    506 non-null    float64\n",
      "dtypes: float64(13)\n",
      "memory usage: 51.5 KB\n",
      "None\n"
     ]
    }
   ],
   "source": [
    "# load boston housing pricing dataset\n",
    "from sklearn.datasets import load_boston\n",
    "boston=load_boston()\n",
    "boston_df=pd.DataFrame(boston.data,columns=boston.feature_names)\n",
    "\n",
    "# display basic information of boston dataset\n",
    "print(boston.DESCR)\n",
    "print(boston_df.info())\n",
    "\n",
    "# add another column that contains the house prices which in scikit learn datasets are considered as target\n",
    "boston_df['Price']=boston.target\n",
    "\n",
    "input_data=boston_df.drop('Price',axis=1)\n",
    "\n",
    "output_data=boston.target"
   ]
  },
  {
   "cell_type": "code",
   "execution_count": 15,
   "metadata": {},
   "outputs": [],
   "source": [
    "# Create a linear regressorand a ridge regressor:\n",
    "\n",
    "lin=# put your code here...\n",
    "\n",
    "#https://scikit-learn.org/stable/modules/generated/sklearn.linear_model.Ridge.html\n",
    "rdg=# put your code here..."
   ]
  },
  {
   "cell_type": "code",
   "execution_count": 49,
   "metadata": {},
   "outputs": [
    {
     "name": "stdout",
     "output_type": "stream",
     "text": [
      "Object `X_train, X_test, y_train, y_test = train_test_split(input_data, output_data, test_size=0.33)` not found.\n"
     ]
    }
   ],
   "source": [
    "# Create the test train split (2/3 train data, 1/3 test data), using train_test_split\n",
    "X_train, X_test, y_train, y_test = # put your code here...\n"
   ]
  },
  {
   "cell_type": "markdown",
   "metadata": {},
   "source": [
    "\n",
    "*Train 2 machine learning algorithms with the train set and test them with the test set*\n",
    "\n"
   ]
  },
  {
   "cell_type": "code",
   "execution_count": 17,
   "metadata": {},
   "outputs": [
    {
     "data": {
      "text/plain": [
       "0.5649282677100156"
      ]
     },
     "execution_count": 17,
     "metadata": {},
     "output_type": "execute_result"
    }
   ],
   "source": [
    "# Run the data with linear regression, return R squared value\n",
    "\n",
    "lin.fit # put your code here...\n",
    "lin.score # put your code here..."
   ]
  },
  {
   "cell_type": "code",
   "execution_count": 57,
   "metadata": {
    "scrolled": true
   },
   "outputs": [
    {
     "data": {
      "text/plain": [
       "0.5588611557874383"
      ]
     },
     "execution_count": 57,
     "metadata": {},
     "output_type": "execute_result"
    }
   ],
   "source": [
    "# Run the data with ridge Regression, return R squared value\n",
    "\n",
    "# put your code here..."
   ]
  },
  {
   "cell_type": "markdown",
   "metadata": {},
   "source": [
    "Now evaluate the performance of the algorithms by finding the values for MAE, MSE, and RMSE\n"
   ]
  },
  {
   "cell_type": "code",
   "execution_count": null,
   "metadata": {},
   "outputs": [],
   "source": [
    "# put your code here to calculate absolute errors for linear and ridge regression\n",
    "\n",
    "\n",
    "print(\"LIN: \")\n",
    "print('Mean Absolute Error:', #put your code here)  \n",
    "print('Mean Squared Error:',  #put your code here)  \n",
    "print('Root Mean Squared Error:',  #put your code here)\n",
    "\n",
    "print(\"\\n\\nRIDGE: \")\n",
    "print('Mean Absolute Error:',  #put your code here)  \n",
    "print('Mean Squared Error:',  #put your code here)  \n",
    "print('Root Mean Squared Error:',  #put your code here)"
   ]
  },
  {
   "cell_type": "raw",
   "metadata": {},
   "source": [
    "Density plot and box plot of absolute error"
   ]
  },
  {
   "cell_type": "code",
   "execution_count": null,
   "metadata": {},
   "outputs": [],
   "source": [
    "lin_abs_error=# put your code here\n",
    "rdg_abs_error=# put your code here\n",
    "\n",
    "\n",
    "df = pd.DataFrame(# put your code here)\n",
    "df.boxplot(grid=True)"
   ]
  },
  {
   "cell_type": "code",
   "execution_count": null,
   "metadata": {},
   "outputs": [],
   "source": [
    "# density plot\n",
    "import seaborn as sns\n",
    "\n",
    "for col in ['Lin','Ridge']:\n",
    "    sns.kdeplot(df[col], shade=True)"
   ]
  },
  {
   "cell_type": "markdown",
   "metadata": {},
   "source": [
    "As seen from the above density plot, linear regression and ridge regression have almost the same distribution of absolute error values. This suggests that $\\alpha=1$ used in ridge regression has little influence. What will happen if we use a big value for this parameter, say $\\alpha=500000$ ?\n",
    "\n",
    "To find out the consequences, create a new ridge regressor with $\\alpha=500000$, train and test it with the same boston dataset. Compute absolute error values on the test set. Then visualise the difference between lineare regressor and the new ridge regressor in boxplot and density plot."
   ]
  },
  {
   "cell_type": "code",
   "execution_count": null,
   "metadata": {},
   "outputs": [],
   "source": [
    "# create a new ridge regressor with $\\alpha=500000$\n",
    "new_rdg= # put your code here\n",
    "\n",
    "# put your code here to train the model and predict on the test set\n",
    "\n",
    "# put your code here to visualise the abosulte errors of new_rdg and lin in box plot and density plot\n"
   ]
  },
  {
   "cell_type": "markdown",
   "metadata": {},
   "source": [
    "# Cross validation\n",
    "\n",
    "Scilearn contains a rich list of cross validation approaches. We are going to practise K-fold and LeaveOneOut in the exercise\n",
    "\n",
    "1, 10-fold cross validation for the two machine learning algorithms\n"
   ]
  },
  {
   "cell_type": "code",
   "execution_count": 37,
   "metadata": {
    "scrolled": false
   },
   "outputs": [
    {
     "name": "stdout",
     "output_type": "stream",
     "text": [
      "LIN: \n",
      "0.20252899006055775\n",
      "\n",
      "\n",
      "RIDGE:\n",
      "0.256166870375933\n"
     ]
    }
   ],
   "source": [
    "# Print the mean of r2 scores for the 2 algorithms, using the cross_val_score function\n",
    "print(\"LIN: \")\n",
    "print(# put your code here...)\n",
    " \n",
    "print(\"\\n\\nRIDGE:\")\n",
    "print(# put your code here...)\n"
   ]
  },
  {
   "cell_type": "markdown",
   "metadata": {},
   "source": [
    "2, Leave one out cross validation using leaveOneOut.\n",
    "\n",
    "You can do this via the cross_val_score function by changing the CV parameter\n",
    "\n",
    "Note: cross_val_score uses by default a scoring/performance metric of R-squared, which does NOT work for LeaveOneOut cross validation. Can you think of why ?   What scoring metric can you use in this case ?"
   ]
  },
  {
   "cell_type": "code",
   "execution_count": 39,
   "metadata": {},
   "outputs": [
    {
     "name": "stdout",
     "output_type": "stream",
     "text": [
      "Accuracy: -338.280% (350.463%)\n"
     ]
    }
   ],
   "source": [
    "from sklearn.model_selection import LeaveOneOut \n",
    "loo = LeaveOneOut()\n",
    "results = # put your code here...\n",
    "# print(results)\n",
    "print(\"Accuracy: %.3f%% (%.3f%%)\" % (results.mean()*100.0, results.std()*100.0))"
   ]
  },
  {
   "cell_type": "markdown",
   "metadata": {},
   "source": [
    "#  Parameter Selection by Grid Search\n",
    "\n",
    "A machine learning model has two types of parameters. The first type of parameters are the parameters that are learned through a machine learning model while the second type of parameters are the hyper parameter that we pass to the machine learning model.\n",
    "\n",
    "\"In statistics and machine learning, lasso (least absolute shrinkage and selection operator; also Lasso or LASSO) is a regression analysis method that performs both variable selection and regularization in order to enhance the prediction accuracy and interpretability of the statistical model it produces.\" Wikipedia\n",
    "\n",
    "The LASSO and Ridge regressors both have a parameter $\\alpha$. This kind of parameters are known as hyper parameters.\n",
    "\n",
    "Normally we randomly set the value for these hyper parameters and see what parameters result in best performance. However randomly selecting the parameters for the algorithm can be exhaustive.\n",
    "\n",
    "Also, it is not easy to compare performance of different algorithms by randomly setting the hyper parameters because one algorithm may perform better than the other with different set of parameters. And if the parameters are changed, the algorithm may perform worse than the other algorithms.\n",
    "\n",
    "Therefore, instead of randomly selecting the values of the parameters, a better approach would be to develop an algorithm which automatically finds the best parameters for a particular model. Grid Search is one such algorithm.\n",
    "\n",
    "Practical machine learning: Ridge Regression vs. Lasso\n",
    "https://hackernoon.com/practical-machine-learning-ridge-regression-vs-lasso-a00326371ece\n",
    "\n",
    "Regularization: Ridge, Lasso and Elastic Net\n",
    "https://www.datacamp.com/community/tutorials/tutorial-ridge-lasso-elastic-net\n"
   ]
  },
  {
   "cell_type": "markdown",
   "metadata": {},
   "source": [
    "Apply Grid Search to the following parameter structure to identify the best $\\alpha$ value from [0.01, 0.05, 0.1, 0.5, 1] for the Ridge regressor\n",
    "\n",
    "grid_param = {\n",
    "    'alpha':  [0.01, 0.05, 0.1, 0.5, 1] , \n",
    "}"
   ]
  },
  {
   "cell_type": "code",
   "execution_count": 15,
   "metadata": {},
   "outputs": [],
   "source": [
    "grid_param = {\n",
    "    'alpha':  [0.01, 0.05, 0.1, 0.5, 1],\n",
    "}"
   ]
  },
  {
   "cell_type": "code",
   "execution_count": 18,
   "metadata": {},
   "outputs": [
    {
     "ename": "IndentationError",
     "evalue": "unexpected indent (<ipython-input-18-77fd6cad02dd>, line 4)",
     "output_type": "error",
     "traceback": [
      "\u001b[0;36m  File \u001b[0;32m\"<ipython-input-18-77fd6cad02dd>\"\u001b[0;36m, line \u001b[0;32m4\u001b[0m\n\u001b[0;31m    param_grid=grid_param,\u001b[0m\n\u001b[0m    ^\u001b[0m\n\u001b[0;31mIndentationError\u001b[0m\u001b[0;31m:\u001b[0m unexpected indent\n"
     ]
    }
   ],
   "source": [
    "# create grid search engine using the GridSearchGV\n",
    "from sklearn.model_selection import GridSearchCV\n",
    "gd_sr = # put your code here...\n",
    "#gd_sr = GridSearchCV(estimator=rdg, param_grid=grid_param, scoring='r2', cv=5, n_jobs=-1)"
   ]
  },
  {
   "cell_type": "code",
   "execution_count": 62,
   "metadata": {
    "scrolled": true
   },
   "outputs": [
    {
     "data": {
      "text/plain": [
       "GridSearchCV(cv=5, error_score='raise-deprecating',\n",
       "       estimator=Ridge(alpha=1.0, copy_X=True, fit_intercept=True, max_iter=None,\n",
       "   normalize=False, random_state=None, solver='auto', tol=0.001),\n",
       "       fit_params=None, iid='warn', n_jobs=-1,\n",
       "       param_grid={'alpha': [0.01, 0.05, 0.1, 0.5, 1]},\n",
       "       pre_dispatch='2*n_jobs', refit=True, return_train_score='warn',\n",
       "       scoring='r2', verbose=0)"
      ]
     },
     "execution_count": 62,
     "metadata": {},
     "output_type": "execute_result"
    }
   ],
   "source": [
    "# apply grid search on the whole boston dataset\n",
    "\n",
    "gd_sr.fit(X_train, y_train)"
   ]
  },
  {
   "cell_type": "code",
   "execution_count": 63,
   "metadata": {},
   "outputs": [
    {
     "name": "stdout",
     "output_type": "stream",
     "text": [
      "{'alpha': 0.01}\n"
     ]
    }
   ],
   "source": [
    "# obtain the best alpha value\n",
    "best_parameters = gd_sr.best_params_\n",
    "print(best_parameters)"
   ]
  }
 ],
 "metadata": {
  "kernelspec": {
   "display_name": "Python 3",
   "language": "python",
   "name": "python3"
  },
  "language_info": {
   "codemirror_mode": {
    "name": "ipython",
    "version": 3
   },
   "file_extension": ".py",
   "mimetype": "text/x-python",
   "name": "python",
   "nbconvert_exporter": "python",
   "pygments_lexer": "ipython3",
   "version": "3.8.3"
  }
 },
 "nbformat": 4,
 "nbformat_minor": 1
}
