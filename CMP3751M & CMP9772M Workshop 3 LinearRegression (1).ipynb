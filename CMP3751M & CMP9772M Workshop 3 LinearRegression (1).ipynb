{
 "cells": [
  {
   "cell_type": "markdown",
   "metadata": {},
   "source": [
    "# Machine Learning 2020 - 2022 <br>\n",
    "Week 3 - Workshop on Lnear Regression <br>\n",
    "Lecturer: Bashir Al-Diri <br>\n",
    "\n",
    "\n",
    "# Machine Learning Workshop: Week 3\n",
    "\n",
    "This week we will use the theory about linear regression that we have learned last and this week. We will look at polynomial regression using the least squares solution derived before. Here, we will also see interesting findings about model-selection and see the over and under-fitting problem directly in our data set.\n",
    "\n",
    "Please read over the whole notebook. It contains several excercises (4) that you have to complete. "
   ]
  },
  {
   "cell_type": "markdown",
   "metadata": {},
   "source": [
    "# Linear Regression in Matrix Form"
   ]
  },
  {
   "cell_type": "markdown",
   "metadata": {},
   "source": [
    "<img src='files/regression.png'>\n",
    "We want to find a linear function (line) that best fits the data"
   ]
  },
  {
   "cell_type": "markdown",
   "metadata": {},
   "source": [
    "## Linear Functions in vector form"
   ]
  },
  {
   "cell_type": "markdown",
   "metadata": {},
   "source": [
    "More formally, we want to fit a linear function of the following form:\n",
    "    $$\\hat y = w_0 + \\sum_i w_i x_i $$\n",
    "$\\beta_0$ is the offset and $w_i$ defines the slope for the ith input.\n",
    "We can also write the output $\\hat{y}$ in vector form\n",
    "$$\\hat{y} =  \\boldsymbol x^T\\boldsymbol w \\textrm{ with } \\boldsymbol w = \\left[\\begin{array}{c}w_0 \\\\ \\vdots \\\\ w_d \\end{array} \\right] \\textrm{ and } \\boldsymbol x = \\left[\\begin{array}{c}1 \\\\ x_1 \\\\ \\vdots \\\\ x_d \\end{array} \\right]$$\n",
    "Note that we prepended a one to the $\\boldsymbol x$-vector which will multiply with the offset $w_0$ when computing the scalar product."
   ]
  },
  {
   "cell_type": "markdown",
   "metadata": {},
   "source": [
    "## Matrices for multiple outputs"
   ]
  },
  {
   "cell_type": "markdown",
   "metadata": {},
   "source": [
    "We will now consider multiple samples $\\boldsymbol x_i$, where we will prepend again a $1$ to create the ${\\boldsymbol x}_{i} = \\left[\\begin{array}{c}1 \\\\ x_{i,1} \\\\ \\vdots \\\\ x_{i,d} \\end{array} \\right]$ \n",
    " vector. We can stack all ${\\boldsymbol x_{i}}$  in a matrix ${\\boldsymbol X} = \\left[\\begin{array}{c}{\\boldsymbol x}_{1}^T\\\\ \\vdots \\\\ {\\boldsymbol x}^T_{n}  \\end{array} \\right].$\n",
    "The output $\\hat y_i$ for each sample can also be  subsumed in a vector \n",
    "$\\hat{\\boldsymbol y} = \\left[\\begin{array}{c}\\hat{y}_{1}\\\\ \\vdots \\\\ \\hat{ y}_{n}  \\end{array} \\right] = \\left[\\begin{array}{c} {\\boldsymbol x_1}^T {\\boldsymbol w} \\\\ \\vdots \\\\ {\\boldsymbol x_n}^T {\\boldsymbol w}  \\end{array} \\right] = {\\boldsymbol X} {\\boldsymbol{w}}.$ Hence, the computation of all output values can be written as matrix vector product\n"
   ]
  },
  {
   "cell_type": "markdown",
   "metadata": {},
   "source": [
    "## Lets do it in python..."
   ]
  },
  {
   "cell_type": "markdown",
   "metadata": {},
   "source": [
    "We will consider a 1-dimensional problem as illustrated below. We are given 10 training samples and we want to fit\n",
    "a line to these samples. Our line has 2 parameters, $\\beta_0$ and $\\beta_1$. Lets first look at the data and how we can compute a prediction using hand-picked \n",
    "$\\beta_0$ and $\\beta_1$ values. "
   ]
  },
  {
   "cell_type": "code",
   "execution_count": 2,
   "metadata": {
    "scrolled": true
   },
   "outputs": [
    {
     "data": {
      "text/html": [
       "<div>\n",
       "<style scoped>\n",
       "    .dataframe tbody tr th:only-of-type {\n",
       "        vertical-align: middle;\n",
       "    }\n",
       "\n",
       "    .dataframe tbody tr th {\n",
       "        vertical-align: top;\n",
       "    }\n",
       "\n",
       "    .dataframe thead th {\n",
       "        text-align: right;\n",
       "    }\n",
       "</style>\n",
       "<table border=\"1\" class=\"dataframe\">\n",
       "  <thead>\n",
       "    <tr style=\"text-align: right;\">\n",
       "      <th></th>\n",
       "      <th>Unnamed: 0</th>\n",
       "      <th>x</th>\n",
       "      <th>y</th>\n",
       "    </tr>\n",
       "  </thead>\n",
       "  <tbody>\n",
       "    <tr>\n",
       "      <th>0</th>\n",
       "      <td>0</td>\n",
       "      <td>0.507979</td>\n",
       "      <td>-2.885948</td>\n",
       "    </tr>\n",
       "    <tr>\n",
       "      <th>1</th>\n",
       "      <td>1</td>\n",
       "      <td>2.081478</td>\n",
       "      <td>-8.107921</td>\n",
       "    </tr>\n",
       "    <tr>\n",
       "      <th>2</th>\n",
       "      <td>2</td>\n",
       "      <td>-2.090953</td>\n",
       "      <td>-9.628462</td>\n",
       "    </tr>\n",
       "    <tr>\n",
       "      <th>3</th>\n",
       "      <td>3</td>\n",
       "      <td>0.108276</td>\n",
       "      <td>3.871277</td>\n",
       "    </tr>\n",
       "    <tr>\n",
       "      <th>4</th>\n",
       "      <td>4</td>\n",
       "      <td>3.929470</td>\n",
       "      <td>29.992393</td>\n",
       "    </tr>\n",
       "    <tr>\n",
       "      <th>5</th>\n",
       "      <td>5</td>\n",
       "      <td>3.962931</td>\n",
       "      <td>35.265511</td>\n",
       "    </tr>\n",
       "    <tr>\n",
       "      <th>6</th>\n",
       "      <td>6</td>\n",
       "      <td>-3.744147</td>\n",
       "      <td>-47.535566</td>\n",
       "    </tr>\n",
       "    <tr>\n",
       "      <th>7</th>\n",
       "      <td>7</td>\n",
       "      <td>-2.927571</td>\n",
       "      <td>-21.047461</td>\n",
       "    </tr>\n",
       "    <tr>\n",
       "      <th>8</th>\n",
       "      <td>8</td>\n",
       "      <td>-4.485328</td>\n",
       "      <td>-90.654904</td>\n",
       "    </tr>\n",
       "    <tr>\n",
       "      <th>9</th>\n",
       "      <td>9</td>\n",
       "      <td>-0.591902</td>\n",
       "      <td>-5.330597</td>\n",
       "    </tr>\n",
       "  </tbody>\n",
       "</table>\n",
       "</div>"
      ],
      "text/plain": [
       "   Unnamed: 0         x          y\n",
       "0           0  0.507979  -2.885948\n",
       "1           1  2.081478  -8.107921\n",
       "2           2 -2.090953  -9.628462\n",
       "3           3  0.108276   3.871277\n",
       "4           4  3.929470  29.992393\n",
       "5           5  3.962931  35.265511\n",
       "6           6 -3.744147 -47.535566\n",
       "7           7 -2.927571 -21.047461\n",
       "8           8 -4.485328 -90.654904\n",
       "9           9 -0.591902  -5.330597"
      ]
     },
     "execution_count": 2,
     "metadata": {},
     "output_type": "execute_result"
    }
   ],
   "source": [
    "import pandas as pd\n",
    "import numpy as np\n",
    "import matplotlib.pyplot\n",
    "\n",
    "data_train = pd.read_csv('regression_train.csv')\n",
    "data_test = pd.read_csv('regression_test.csv')\n",
    "\n",
    "data_train"
   ]
  },
  {
   "cell_type": "markdown",
   "metadata": {},
   "source": [
    "### Get the training data as numpy arrays"
   ]
  },
  {
   "cell_type": "code",
   "execution_count": 5,
   "metadata": {},
   "outputs": [],
   "source": [
    "x_train = data_train['x']\n",
    "y_train = data_train['y']\n",
    "\n",
    "x_test = data_test['x']\n",
    "y_test = data_test['y']\n"
   ]
  },
  {
   "cell_type": "markdown",
   "metadata": {},
   "source": [
    "### Plot the training data"
   ]
  },
  {
   "cell_type": "code",
   "execution_count": 6,
   "metadata": {
    "scrolled": true
   },
   "outputs": [
    {
     "data": {
      "application/javascript": "/* Put everything inside the global mpl namespace */\nwindow.mpl = {};\n\n\nmpl.get_websocket_type = function() {\n    if (typeof(WebSocket) !== 'undefined') {\n        return WebSocket;\n    } else if (typeof(MozWebSocket) !== 'undefined') {\n        return MozWebSocket;\n    } else {\n        alert('Your browser does not have WebSocket support. ' +\n              'Please try Chrome, Safari or Firefox ≥ 6. ' +\n              'Firefox 4 and 5 are also supported but you ' +\n              'have to enable WebSockets in about:config.');\n    };\n}\n\nmpl.figure = function(figure_id, websocket, ondownload, parent_element) {\n    this.id = figure_id;\n\n    this.ws = websocket;\n\n    this.supports_binary = (this.ws.binaryType != undefined);\n\n    if (!this.supports_binary) {\n        var warnings = document.getElementById(\"mpl-warnings\");\n        if (warnings) {\n            warnings.style.display = 'block';\n            warnings.textContent = (\n                \"This browser does not support binary websocket messages. \" +\n                    \"Performance may be slow.\");\n        }\n    }\n\n    this.imageObj = new Image();\n\n    this.context = undefined;\n    this.message = undefined;\n    this.canvas = undefined;\n    this.rubberband_canvas = undefined;\n    this.rubberband_context = undefined;\n    this.format_dropdown = undefined;\n\n    this.image_mode = 'full';\n\n    this.root = $('<div/>');\n    this._root_extra_style(this.root)\n    this.root.attr('style', 'display: inline-block');\n\n    $(parent_element).append(this.root);\n\n    this._init_header(this);\n    this._init_canvas(this);\n    this._init_toolbar(this);\n\n    var fig = this;\n\n    this.waiting = false;\n\n    this.ws.onopen =  function () {\n            fig.send_message(\"supports_binary\", {value: fig.supports_binary});\n            fig.send_message(\"send_image_mode\", {});\n            if (mpl.ratio != 1) {\n                fig.send_message(\"set_dpi_ratio\", {'dpi_ratio': mpl.ratio});\n            }\n            fig.send_message(\"refresh\", {});\n        }\n\n    this.imageObj.onload = function() {\n            if (fig.image_mode == 'full') {\n                // Full images could contain transparency (where diff images\n                // almost always do), so we need to clear the canvas so that\n                // there is no ghosting.\n                fig.context.clearRect(0, 0, fig.canvas.width, fig.canvas.height);\n            }\n            fig.context.drawImage(fig.imageObj, 0, 0);\n        };\n\n    this.imageObj.onunload = function() {\n        fig.ws.close();\n    }\n\n    this.ws.onmessage = this._make_on_message_function(this);\n\n    this.ondownload = ondownload;\n}\n\nmpl.figure.prototype._init_header = function() {\n    var titlebar = $(\n        '<div class=\"ui-dialog-titlebar ui-widget-header ui-corner-all ' +\n        'ui-helper-clearfix\"/>');\n    var titletext = $(\n        '<div class=\"ui-dialog-title\" style=\"width: 100%; ' +\n        'text-align: center; padding: 3px;\"/>');\n    titlebar.append(titletext)\n    this.root.append(titlebar);\n    this.header = titletext[0];\n}\n\n\n\nmpl.figure.prototype._canvas_extra_style = function(canvas_div) {\n\n}\n\n\nmpl.figure.prototype._root_extra_style = function(canvas_div) {\n\n}\n\nmpl.figure.prototype._init_canvas = function() {\n    var fig = this;\n\n    var canvas_div = $('<div/>');\n\n    canvas_div.attr('style', 'position: relative; clear: both; outline: 0');\n\n    function canvas_keyboard_event(event) {\n        return fig.key_event(event, event['data']);\n    }\n\n    canvas_div.keydown('key_press', canvas_keyboard_event);\n    canvas_div.keyup('key_release', canvas_keyboard_event);\n    this.canvas_div = canvas_div\n    this._canvas_extra_style(canvas_div)\n    this.root.append(canvas_div);\n\n    var canvas = $('<canvas/>');\n    canvas.addClass('mpl-canvas');\n    canvas.attr('style', \"left: 0; top: 0; z-index: 0; outline: 0\")\n\n    this.canvas = canvas[0];\n    this.context = canvas[0].getContext(\"2d\");\n\n    var backingStore = this.context.backingStorePixelRatio ||\n\tthis.context.webkitBackingStorePixelRatio ||\n\tthis.context.mozBackingStorePixelRatio ||\n\tthis.context.msBackingStorePixelRatio ||\n\tthis.context.oBackingStorePixelRatio ||\n\tthis.context.backingStorePixelRatio || 1;\n\n    mpl.ratio = (window.devicePixelRatio || 1) / backingStore;\n\n    var rubberband = $('<canvas/>');\n    rubberband.attr('style', \"position: absolute; left: 0; top: 0; z-index: 1;\")\n\n    var pass_mouse_events = true;\n\n    canvas_div.resizable({\n        start: function(event, ui) {\n            pass_mouse_events = false;\n        },\n        resize: function(event, ui) {\n            fig.request_resize(ui.size.width, ui.size.height);\n        },\n        stop: function(event, ui) {\n            pass_mouse_events = true;\n            fig.request_resize(ui.size.width, ui.size.height);\n        },\n    });\n\n    function mouse_event_fn(event) {\n        if (pass_mouse_events)\n            return fig.mouse_event(event, event['data']);\n    }\n\n    rubberband.mousedown('button_press', mouse_event_fn);\n    rubberband.mouseup('button_release', mouse_event_fn);\n    // Throttle sequential mouse events to 1 every 20ms.\n    rubberband.mousemove('motion_notify', mouse_event_fn);\n\n    rubberband.mouseenter('figure_enter', mouse_event_fn);\n    rubberband.mouseleave('figure_leave', mouse_event_fn);\n\n    canvas_div.on(\"wheel\", function (event) {\n        event = event.originalEvent;\n        event['data'] = 'scroll'\n        if (event.deltaY < 0) {\n            event.step = 1;\n        } else {\n            event.step = -1;\n        }\n        mouse_event_fn(event);\n    });\n\n    canvas_div.append(canvas);\n    canvas_div.append(rubberband);\n\n    this.rubberband = rubberband;\n    this.rubberband_canvas = rubberband[0];\n    this.rubberband_context = rubberband[0].getContext(\"2d\");\n    this.rubberband_context.strokeStyle = \"#000000\";\n\n    this._resize_canvas = function(width, height) {\n        // Keep the size of the canvas, canvas container, and rubber band\n        // canvas in synch.\n        canvas_div.css('width', width)\n        canvas_div.css('height', height)\n\n        canvas.attr('width', width * mpl.ratio);\n        canvas.attr('height', height * mpl.ratio);\n        canvas.attr('style', 'width: ' + width + 'px; height: ' + height + 'px;');\n\n        rubberband.attr('width', width);\n        rubberband.attr('height', height);\n    }\n\n    // Set the figure to an initial 600x600px, this will subsequently be updated\n    // upon first draw.\n    this._resize_canvas(600, 600);\n\n    // Disable right mouse context menu.\n    $(this.rubberband_canvas).bind(\"contextmenu\",function(e){\n        return false;\n    });\n\n    function set_focus () {\n        canvas.focus();\n        canvas_div.focus();\n    }\n\n    window.setTimeout(set_focus, 100);\n}\n\nmpl.figure.prototype._init_toolbar = function() {\n    var fig = this;\n\n    var nav_element = $('<div/>');\n    nav_element.attr('style', 'width: 100%');\n    this.root.append(nav_element);\n\n    // Define a callback function for later on.\n    function toolbar_event(event) {\n        return fig.toolbar_button_onclick(event['data']);\n    }\n    function toolbar_mouse_event(event) {\n        return fig.toolbar_button_onmouseover(event['data']);\n    }\n\n    for(var toolbar_ind in mpl.toolbar_items) {\n        var name = mpl.toolbar_items[toolbar_ind][0];\n        var tooltip = mpl.toolbar_items[toolbar_ind][1];\n        var image = mpl.toolbar_items[toolbar_ind][2];\n        var method_name = mpl.toolbar_items[toolbar_ind][3];\n\n        if (!name) {\n            // put a spacer in here.\n            continue;\n        }\n        var button = $('<button/>');\n        button.addClass('ui-button ui-widget ui-state-default ui-corner-all ' +\n                        'ui-button-icon-only');\n        button.attr('role', 'button');\n        button.attr('aria-disabled', 'false');\n        button.click(method_name, toolbar_event);\n        button.mouseover(tooltip, toolbar_mouse_event);\n\n        var icon_img = $('<span/>');\n        icon_img.addClass('ui-button-icon-primary ui-icon');\n        icon_img.addClass(image);\n        icon_img.addClass('ui-corner-all');\n\n        var tooltip_span = $('<span/>');\n        tooltip_span.addClass('ui-button-text');\n        tooltip_span.html(tooltip);\n\n        button.append(icon_img);\n        button.append(tooltip_span);\n\n        nav_element.append(button);\n    }\n\n    var fmt_picker_span = $('<span/>');\n\n    var fmt_picker = $('<select/>');\n    fmt_picker.addClass('mpl-toolbar-option ui-widget ui-widget-content');\n    fmt_picker_span.append(fmt_picker);\n    nav_element.append(fmt_picker_span);\n    this.format_dropdown = fmt_picker[0];\n\n    for (var ind in mpl.extensions) {\n        var fmt = mpl.extensions[ind];\n        var option = $(\n            '<option/>', {selected: fmt === mpl.default_extension}).html(fmt);\n        fmt_picker.append(option);\n    }\n\n    // Add hover states to the ui-buttons\n    $( \".ui-button\" ).hover(\n        function() { $(this).addClass(\"ui-state-hover\");},\n        function() { $(this).removeClass(\"ui-state-hover\");}\n    );\n\n    var status_bar = $('<span class=\"mpl-message\"/>');\n    nav_element.append(status_bar);\n    this.message = status_bar[0];\n}\n\nmpl.figure.prototype.request_resize = function(x_pixels, y_pixels) {\n    // Request matplotlib to resize the figure. Matplotlib will then trigger a resize in the client,\n    // which will in turn request a refresh of the image.\n    this.send_message('resize', {'width': x_pixels, 'height': y_pixels});\n}\n\nmpl.figure.prototype.send_message = function(type, properties) {\n    properties['type'] = type;\n    properties['figure_id'] = this.id;\n    this.ws.send(JSON.stringify(properties));\n}\n\nmpl.figure.prototype.send_draw_message = function() {\n    if (!this.waiting) {\n        this.waiting = true;\n        this.ws.send(JSON.stringify({type: \"draw\", figure_id: this.id}));\n    }\n}\n\n\nmpl.figure.prototype.handle_save = function(fig, msg) {\n    var format_dropdown = fig.format_dropdown;\n    var format = format_dropdown.options[format_dropdown.selectedIndex].value;\n    fig.ondownload(fig, format);\n}\n\n\nmpl.figure.prototype.handle_resize = function(fig, msg) {\n    var size = msg['size'];\n    if (size[0] != fig.canvas.width || size[1] != fig.canvas.height) {\n        fig._resize_canvas(size[0], size[1]);\n        fig.send_message(\"refresh\", {});\n    };\n}\n\nmpl.figure.prototype.handle_rubberband = function(fig, msg) {\n    var x0 = msg['x0'] / mpl.ratio;\n    var y0 = (fig.canvas.height - msg['y0']) / mpl.ratio;\n    var x1 = msg['x1'] / mpl.ratio;\n    var y1 = (fig.canvas.height - msg['y1']) / mpl.ratio;\n    x0 = Math.floor(x0) + 0.5;\n    y0 = Math.floor(y0) + 0.5;\n    x1 = Math.floor(x1) + 0.5;\n    y1 = Math.floor(y1) + 0.5;\n    var min_x = Math.min(x0, x1);\n    var min_y = Math.min(y0, y1);\n    var width = Math.abs(x1 - x0);\n    var height = Math.abs(y1 - y0);\n\n    fig.rubberband_context.clearRect(\n        0, 0, fig.canvas.width / mpl.ratio, fig.canvas.height / mpl.ratio);\n\n    fig.rubberband_context.strokeRect(min_x, min_y, width, height);\n}\n\nmpl.figure.prototype.handle_figure_label = function(fig, msg) {\n    // Updates the figure title.\n    fig.header.textContent = msg['label'];\n}\n\nmpl.figure.prototype.handle_cursor = function(fig, msg) {\n    var cursor = msg['cursor'];\n    switch(cursor)\n    {\n    case 0:\n        cursor = 'pointer';\n        break;\n    case 1:\n        cursor = 'default';\n        break;\n    case 2:\n        cursor = 'crosshair';\n        break;\n    case 3:\n        cursor = 'move';\n        break;\n    }\n    fig.rubberband_canvas.style.cursor = cursor;\n}\n\nmpl.figure.prototype.handle_message = function(fig, msg) {\n    fig.message.textContent = msg['message'];\n}\n\nmpl.figure.prototype.handle_draw = function(fig, msg) {\n    // Request the server to send over a new figure.\n    fig.send_draw_message();\n}\n\nmpl.figure.prototype.handle_image_mode = function(fig, msg) {\n    fig.image_mode = msg['mode'];\n}\n\nmpl.figure.prototype.updated_canvas_event = function() {\n    // Called whenever the canvas gets updated.\n    this.send_message(\"ack\", {});\n}\n\n// A function to construct a web socket function for onmessage handling.\n// Called in the figure constructor.\nmpl.figure.prototype._make_on_message_function = function(fig) {\n    return function socket_on_message(evt) {\n        if (evt.data instanceof Blob) {\n            /* FIXME: We get \"Resource interpreted as Image but\n             * transferred with MIME type text/plain:\" errors on\n             * Chrome.  But how to set the MIME type?  It doesn't seem\n             * to be part of the websocket stream */\n            evt.data.type = \"image/png\";\n\n            /* Free the memory for the previous frames */\n            if (fig.imageObj.src) {\n                (window.URL || window.webkitURL).revokeObjectURL(\n                    fig.imageObj.src);\n            }\n\n            fig.imageObj.src = (window.URL || window.webkitURL).createObjectURL(\n                evt.data);\n            fig.updated_canvas_event();\n            fig.waiting = false;\n            return;\n        }\n        else if (typeof evt.data === 'string' && evt.data.slice(0, 21) == \"data:image/png;base64\") {\n            fig.imageObj.src = evt.data;\n            fig.updated_canvas_event();\n            fig.waiting = false;\n            return;\n        }\n\n        var msg = JSON.parse(evt.data);\n        var msg_type = msg['type'];\n\n        // Call the  \"handle_{type}\" callback, which takes\n        // the figure and JSON message as its only arguments.\n        try {\n            var callback = fig[\"handle_\" + msg_type];\n        } catch (e) {\n            console.log(\"No handler for the '\" + msg_type + \"' message type: \", msg);\n            return;\n        }\n\n        if (callback) {\n            try {\n                // console.log(\"Handling '\" + msg_type + \"' message: \", msg);\n                callback(fig, msg);\n            } catch (e) {\n                console.log(\"Exception inside the 'handler_\" + msg_type + \"' callback:\", e, e.stack, msg);\n            }\n        }\n    };\n}\n\n// from http://stackoverflow.com/questions/1114465/getting-mouse-location-in-canvas\nmpl.findpos = function(e) {\n    //this section is from http://www.quirksmode.org/js/events_properties.html\n    var targ;\n    if (!e)\n        e = window.event;\n    if (e.target)\n        targ = e.target;\n    else if (e.srcElement)\n        targ = e.srcElement;\n    if (targ.nodeType == 3) // defeat Safari bug\n        targ = targ.parentNode;\n\n    // jQuery normalizes the pageX and pageY\n    // pageX,Y are the mouse positions relative to the document\n    // offset() returns the position of the element relative to the document\n    var x = e.pageX - $(targ).offset().left;\n    var y = e.pageY - $(targ).offset().top;\n\n    return {\"x\": x, \"y\": y};\n};\n\n/*\n * return a copy of an object with only non-object keys\n * we need this to avoid circular references\n * http://stackoverflow.com/a/24161582/3208463\n */\nfunction simpleKeys (original) {\n  return Object.keys(original).reduce(function (obj, key) {\n    if (typeof original[key] !== 'object')\n        obj[key] = original[key]\n    return obj;\n  }, {});\n}\n\nmpl.figure.prototype.mouse_event = function(event, name) {\n    var canvas_pos = mpl.findpos(event)\n\n    if (name === 'button_press')\n    {\n        this.canvas.focus();\n        this.canvas_div.focus();\n    }\n\n    var x = canvas_pos.x * mpl.ratio;\n    var y = canvas_pos.y * mpl.ratio;\n\n    this.send_message(name, {x: x, y: y, button: event.button,\n                             step: event.step,\n                             guiEvent: simpleKeys(event)});\n\n    /* This prevents the web browser from automatically changing to\n     * the text insertion cursor when the button is pressed.  We want\n     * to control all of the cursor setting manually through the\n     * 'cursor' event from matplotlib */\n    event.preventDefault();\n    return false;\n}\n\nmpl.figure.prototype._key_event_extra = function(event, name) {\n    // Handle any extra behaviour associated with a key event\n}\n\nmpl.figure.prototype.key_event = function(event, name) {\n\n    // Prevent repeat events\n    if (name == 'key_press')\n    {\n        if (event.which === this._key)\n            return;\n        else\n            this._key = event.which;\n    }\n    if (name == 'key_release')\n        this._key = null;\n\n    var value = '';\n    if (event.ctrlKey && event.which != 17)\n        value += \"ctrl+\";\n    if (event.altKey && event.which != 18)\n        value += \"alt+\";\n    if (event.shiftKey && event.which != 16)\n        value += \"shift+\";\n\n    value += 'k';\n    value += event.which.toString();\n\n    this._key_event_extra(event, name);\n\n    this.send_message(name, {key: value,\n                             guiEvent: simpleKeys(event)});\n    return false;\n}\n\nmpl.figure.prototype.toolbar_button_onclick = function(name) {\n    if (name == 'download') {\n        this.handle_save(this, null);\n    } else {\n        this.send_message(\"toolbar_button\", {name: name});\n    }\n};\n\nmpl.figure.prototype.toolbar_button_onmouseover = function(tooltip) {\n    this.message.textContent = tooltip;\n};\nmpl.toolbar_items = [[\"Home\", \"Reset original view\", \"fa fa-home icon-home\", \"home\"], [\"Back\", \"Back to previous view\", \"fa fa-arrow-left icon-arrow-left\", \"back\"], [\"Forward\", \"Forward to next view\", \"fa fa-arrow-right icon-arrow-right\", \"forward\"], [\"\", \"\", \"\", \"\"], [\"Pan\", \"Pan axes with left mouse, zoom with right\", \"fa fa-arrows icon-move\", \"pan\"], [\"Zoom\", \"Zoom to rectangle\", \"fa fa-square-o icon-check-empty\", \"zoom\"], [\"\", \"\", \"\", \"\"], [\"Download\", \"Download plot\", \"fa fa-floppy-o icon-save\", \"download\"]];\n\nmpl.extensions = [\"eps\", \"jpeg\", \"pdf\", \"png\", \"ps\", \"raw\", \"svg\", \"tif\"];\n\nmpl.default_extension = \"png\";var comm_websocket_adapter = function(comm) {\n    // Create a \"websocket\"-like object which calls the given IPython comm\n    // object with the appropriate methods. Currently this is a non binary\n    // socket, so there is still some room for performance tuning.\n    var ws = {};\n\n    ws.close = function() {\n        comm.close()\n    };\n    ws.send = function(m) {\n        //console.log('sending', m);\n        comm.send(m);\n    };\n    // Register the callback with on_msg.\n    comm.on_msg(function(msg) {\n        //console.log('receiving', msg['content']['data'], msg);\n        // Pass the mpl event to the overridden (by mpl) onmessage function.\n        ws.onmessage(msg['content']['data'])\n    });\n    return ws;\n}\n\nmpl.mpl_figure_comm = function(comm, msg) {\n    // This is the function which gets called when the mpl process\n    // starts-up an IPython Comm through the \"matplotlib\" channel.\n\n    var id = msg.content.data.id;\n    // Get hold of the div created by the display call when the Comm\n    // socket was opened in Python.\n    var element = $(\"#\" + id);\n    var ws_proxy = comm_websocket_adapter(comm)\n\n    function ondownload(figure, format) {\n        window.open(figure.imageObj.src);\n    }\n\n    var fig = new mpl.figure(id, ws_proxy,\n                           ondownload,\n                           element.get(0));\n\n    // Call onopen now - mpl needs it, as it is assuming we've passed it a real\n    // web socket which is closed, not our websocket->open comm proxy.\n    ws_proxy.onopen();\n\n    fig.parent_element = element.get(0);\n    fig.cell_info = mpl.find_output_cell(\"<div id='\" + id + \"'></div>\");\n    if (!fig.cell_info) {\n        console.error(\"Failed to find cell for figure\", id, fig);\n        return;\n    }\n\n    var output_index = fig.cell_info[2]\n    var cell = fig.cell_info[0];\n\n};\n\nmpl.figure.prototype.handle_close = function(fig, msg) {\n    var width = fig.canvas.width/mpl.ratio\n    fig.root.unbind('remove')\n\n    // Update the output cell to use the data from the current canvas.\n    fig.push_to_output();\n    var dataURL = fig.canvas.toDataURL();\n    // Re-enable the keyboard manager in IPython - without this line, in FF,\n    // the notebook keyboard shortcuts fail.\n    IPython.keyboard_manager.enable()\n    $(fig.parent_element).html('<img src=\"' + dataURL + '\" width=\"' + width + '\">');\n    fig.close_ws(fig, msg);\n}\n\nmpl.figure.prototype.close_ws = function(fig, msg){\n    fig.send_message('closing', msg);\n    // fig.ws.close()\n}\n\nmpl.figure.prototype.push_to_output = function(remove_interactive) {\n    // Turn the data on the canvas into data in the output cell.\n    var width = this.canvas.width/mpl.ratio\n    var dataURL = this.canvas.toDataURL();\n    this.cell_info[1]['text/html'] = '<img src=\"' + dataURL + '\" width=\"' + width + '\">';\n}\n\nmpl.figure.prototype.updated_canvas_event = function() {\n    // Tell IPython that the notebook contents must change.\n    IPython.notebook.set_dirty(true);\n    this.send_message(\"ack\", {});\n    var fig = this;\n    // Wait a second, then push the new image to the DOM so\n    // that it is saved nicely (might be nice to debounce this).\n    setTimeout(function () { fig.push_to_output() }, 1000);\n}\n\nmpl.figure.prototype._init_toolbar = function() {\n    var fig = this;\n\n    var nav_element = $('<div/>');\n    nav_element.attr('style', 'width: 100%');\n    this.root.append(nav_element);\n\n    // Define a callback function for later on.\n    function toolbar_event(event) {\n        return fig.toolbar_button_onclick(event['data']);\n    }\n    function toolbar_mouse_event(event) {\n        return fig.toolbar_button_onmouseover(event['data']);\n    }\n\n    for(var toolbar_ind in mpl.toolbar_items){\n        var name = mpl.toolbar_items[toolbar_ind][0];\n        var tooltip = mpl.toolbar_items[toolbar_ind][1];\n        var image = mpl.toolbar_items[toolbar_ind][2];\n        var method_name = mpl.toolbar_items[toolbar_ind][3];\n\n        if (!name) { continue; };\n\n        var button = $('<button class=\"btn btn-default\" href=\"#\" title=\"' + name + '\"><i class=\"fa ' + image + ' fa-lg\"></i></button>');\n        button.click(method_name, toolbar_event);\n        button.mouseover(tooltip, toolbar_mouse_event);\n        nav_element.append(button);\n    }\n\n    // Add the status bar.\n    var status_bar = $('<span class=\"mpl-message\" style=\"text-align:right; float: right;\"/>');\n    nav_element.append(status_bar);\n    this.message = status_bar[0];\n\n    // Add the close button to the window.\n    var buttongrp = $('<div class=\"btn-group inline pull-right\"></div>');\n    var button = $('<button class=\"btn btn-mini btn-primary\" href=\"#\" title=\"Stop Interaction\"><i class=\"fa fa-power-off icon-remove icon-large\"></i></button>');\n    button.click(function (evt) { fig.handle_close(fig, {}); } );\n    button.mouseover('Stop Interaction', toolbar_mouse_event);\n    buttongrp.append(button);\n    var titlebar = this.root.find($('.ui-dialog-titlebar'));\n    titlebar.prepend(buttongrp);\n}\n\nmpl.figure.prototype._root_extra_style = function(el){\n    var fig = this\n    el.on(\"remove\", function(){\n\tfig.close_ws(fig, {});\n    });\n}\n\nmpl.figure.prototype._canvas_extra_style = function(el){\n    // this is important to make the div 'focusable\n    el.attr('tabindex', 0)\n    // reach out to IPython and tell the keyboard manager to turn it's self\n    // off when our div gets focus\n\n    // location in version 3\n    if (IPython.notebook.keyboard_manager) {\n        IPython.notebook.keyboard_manager.register_events(el);\n    }\n    else {\n        // location in version 2\n        IPython.keyboard_manager.register_events(el);\n    }\n\n}\n\nmpl.figure.prototype._key_event_extra = function(event, name) {\n    var manager = IPython.notebook.keyboard_manager;\n    if (!manager)\n        manager = IPython.keyboard_manager;\n\n    // Check for shift+enter\n    if (event.shiftKey && event.which == 13) {\n        this.canvas_div.blur();\n        // select the cell after this one\n        var index = IPython.notebook.find_cell_index(this.cell_info[0]);\n        IPython.notebook.select(index + 1);\n    }\n}\n\nmpl.figure.prototype.handle_save = function(fig, msg) {\n    fig.ondownload(fig, null);\n}\n\n\nmpl.find_output_cell = function(html_output) {\n    // Return the cell and output element which can be found *uniquely* in the notebook.\n    // Note - this is a bit hacky, but it is done because the \"notebook_saving.Notebook\"\n    // IPython event is triggered only after the cells have been serialised, which for\n    // our purposes (turning an active figure into a static one), is too late.\n    var cells = IPython.notebook.get_cells();\n    var ncells = cells.length;\n    for (var i=0; i<ncells; i++) {\n        var cell = cells[i];\n        if (cell.cell_type === 'code'){\n            for (var j=0; j<cell.output_area.outputs.length; j++) {\n                var data = cell.output_area.outputs[j];\n                if (data.data) {\n                    // IPython >= 3 moved mimebundle to data attribute of output\n                    data = data.data;\n                }\n                if (data['text/html'] == html_output) {\n                    return [cell, data, j];\n                }\n            }\n        }\n    }\n}\n\n// Register the function which deals with the matplotlib target/channel.\n// The kernel may be null if the page has been refreshed.\nif (IPython.notebook.kernel != null) {\n    IPython.notebook.kernel.comm_manager.register_target('matplotlib', mpl.mpl_figure_comm);\n}\n",
      "text/plain": [
       "<IPython.core.display.Javascript object>"
      ]
     },
     "metadata": {},
     "output_type": "display_data"
    },
    {
     "data": {
      "text/html": [
       "<img src=\"data:image/png;base64,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\" width=\"640\">"
      ],
      "text/plain": [
       "<IPython.core.display.HTML object>"
      ]
     },
     "metadata": {},
     "output_type": "display_data"
    }
   ],
   "source": [
    "%matplotlib notebook\n",
    "## get input output vectors from the data frame and plot the data\n",
    "import matplotlib.pyplot as plt\n",
    "\n",
    "\n",
    "plt.clf()\n",
    "plt.plot(x_train,y_train, 'bo')\n",
    "plt.plot(x_test,y_test, 'g')\n",
    "plt.legend(('training points', 'ground truth'))\n",
    "#plt.hold(True)\n",
    "plt.savefig('trainingdata.png')\n",
    "plt.show()"
   ]
  },
  {
   "cell_type": "markdown",
   "metadata": {},
   "source": [
    "## Preparing the data matrix\n",
    "As a first step, lets construct the $\\tilde{\\boldsymbol{X}}$ matrix "
   ]
  },
  {
   "cell_type": "code",
   "execution_count": 7,
   "metadata": {
    "scrolled": true
   },
   "outputs": [
    {
     "data": {
      "text/plain": [
       "array([[ 1.        ,  0.50797903],\n",
       "       [ 1.        ,  2.08147823],\n",
       "       [ 1.        , -2.09095261],\n",
       "       [ 1.        ,  0.10827605],\n",
       "       [ 1.        ,  3.92946954],\n",
       "       [ 1.        ,  3.96293089],\n",
       "       [ 1.        , -3.7441469 ],\n",
       "       [ 1.        , -2.92757122],\n",
       "       [ 1.        , -4.48532797],\n",
       "       [ 1.        , -0.59190156]])"
      ]
     },
     "execution_count": 7,
     "metadata": {},
     "output_type": "execute_result"
    }
   ],
   "source": [
    "X = np.column_stack((np.ones(x_train.shape), x_train))\n",
    "X"
   ]
  },
  {
   "cell_type": "markdown",
   "metadata": {},
   "source": [
    "# Matrix calculus"
   ]
  },
  {
   "cell_type": "markdown",
   "metadata": {},
   "source": [
    "Now, we want to compute the derivatives of functions $f(\\boldsymbol{x})$ that take several input values, i.e., a vector $\\boldsymbol{x}$. As we have several input values $x_i$, we also need to derive the function with respect to each of them. The derivative of $f$ is therefore not a single value, but a vector that contains the derivative w.r.t each variable, i.e.\n",
    "$$\\frac{\\partial f(\\boldsymbol x)}{\\partial \\boldsymbol x} = \\left[\\frac{\\partial f(\\boldsymbol x)}{\\partial  x_1}, \\dots, \\frac{\\partial f(\\boldsymbol x)}{\\partial x_d}\\right].$$"
   ]
  },
  {
   "cell_type": "markdown",
   "metadata": {},
   "source": [
    "The rules for the differentation are similar to the scalar rules, with small differences as listed below:\n",
    "* **Constants**:\n",
    "$$ \\frac{\\partial \\boldsymbol a}{\\partial \\boldsymbol x} = \\boldsymbol 0$$ \n",
    "* **Linear term:** \n",
    "$$ \\frac{\\partial \\boldsymbol A \\boldsymbol x}{\\partial \\boldsymbol x} = \\boldsymbol A$$\n",
    "* **Quadratic terms**:\n",
    "    $$ \\frac{\\partial \\boldsymbol x^T \\boldsymbol x}{\\partial \\boldsymbol x} = 2 \\boldsymbol x^T$$\n",
    "    \n",
    "    $$ \\frac{\\partial \\boldsymbol x^T \\boldsymbol A \\boldsymbol x}{\\partial \\boldsymbol x} = 2 \\boldsymbol x^T \\boldsymbol A,$$\n",
    "    if $\\boldsymbol A$ is a symmetrix matrix.\n",
    "* **Linearity**: Still holds...\n",
    "* **Chain Rule**: The chain rule is easy to generalize to the vector case.\n",
    "For a composition of functions, i.e., $y = \\boldsymbol f(\\boldsymbol g( \\boldsymbol x))$, we can again introduce an auxiliary variable $\\boldsymbol u = \\boldsymbol g( \\boldsymbol x)$. The derivative of  $y = f(\\boldsymbol g( \\boldsymbol x))$ is then given by\n",
    "$$ \\frac{\\partial f(\\boldsymbol g(\\boldsymbol x)) }{\\partial \\boldsymbol x} = \\frac{\\partial  f(\\boldsymbol u)}{\\partial \\boldsymbol u} \\frac{\\partial \\boldsymbol u}{\\partial \\boldsymbol x}.$$"
   ]
  },
  {
   "cell_type": "markdown",
   "metadata": {},
   "source": [
    "**Example:** We want to compute the derivative of $$ (\\boldsymbol B \\boldsymbol x)^T(\\boldsymbol B \\boldsymbol x)$$. This function can be decomposed in $f(\\boldsymbol u) = \\boldsymbol u^T \\boldsymbol u$ and $\\boldsymbol u =\\boldsymbol g( \\boldsymbol x) = \\boldsymbol B \\boldsymbol x$, with $h(\\boldsymbol x) = f(\\boldsymbol g(\\boldsymbol x))$.\n",
    "* Compute derivative of $f$: $$ \\frac{\\partial  f(\\boldsymbol u)}{\\partial \\boldsymbol u} = \\frac{\\partial  (\\boldsymbol u^T \\boldsymbol u)}{\\partial \\boldsymbol u}= 2 \\boldsymbol u^T.$$\n",
    "* Compute derivative of $\\boldsymbol u$: $$ \\frac{\\partial  \\boldsymbol u}{\\partial \\boldsymbol x} = \\frac{\\partial  (\\boldsymbol B \\boldsymbol x)}{\\partial \\boldsymbol x} = \\boldsymbol B.$$\n",
    "* Final Result:\n",
    "$$ \\frac{\\partial f(\\boldsymbol g( \\boldsymbol x)) }{\\partial \\boldsymbol x} = \\frac{\\partial  f( \\boldsymbol u)}{\\partial \\boldsymbol u} \\frac{\\partial \\boldsymbol u}{\\partial \\boldsymbol x} = 2 \\boldsymbol u^T \\cdot \\boldsymbol B =  2 \\underbrace{\\boldsymbol x^T \\boldsymbol B^T}_{u^T} \\boldsymbol B$$"
   ]
  },
  {
   "cell_type": "markdown",
   "metadata": {},
   "source": [
    "### Excercise 1"
   ]
  },
  {
   "cell_type": "markdown",
   "metadata": {},
   "source": [
    "Using the chain rule, compute the derivative of   \n",
    "$$E(\\boldsymbol x) = (\\boldsymbol a - 5\\boldsymbol x)^T \\boldsymbol A(\\boldsymbol{a} - 5 \\boldsymbol x).$$ Set the derivative to zero and compute the minimum. \n",
    "Plot $E(\\boldsymbol x)$ and $\\frac{\\partial E(\\boldsymbol x)}{\\partial x}$ as 3D plot. For $x_0$ and $x_1$, use an interval of $[-5, 5]$ for the plot using $51$ partitions for each dimension. Confirm your finding of the minimum in the plot. Note that $\\boldsymbol x$ is a 2x1 vector in this equation."
   ]
  },
  {
   "cell_type": "code",
   "execution_count": 1,
   "metadata": {},
   "outputs": [
    {
     "ename": "SyntaxError",
     "evalue": "invalid syntax (<ipython-input-1-96bf348e6ab0>, line 12)",
     "output_type": "error",
     "traceback": [
      "\u001b[0;36m  File \u001b[0;32m\"<ipython-input-1-96bf348e6ab0>\"\u001b[0;36m, line \u001b[0;32m12\u001b[0m\n\u001b[0;31m    Earray[i,j] = # Put your code here...\u001b[0m\n\u001b[0m                  ^\u001b[0m\n\u001b[0;31mSyntaxError\u001b[0m\u001b[0;31m:\u001b[0m invalid syntax\n"
     ]
    }
   ],
   "source": [
    "A = np.array([[1, 0.5], [0.5, 1]])\n",
    "a = np.array([[1], [0]])\n",
    "\n",
    "# specify data points for x0 and x1 (from - 5 to 5, using 51 uniformly distributed points)\n",
    "x0Array = np.linspace(-5, 5, 51)\n",
    "x1Array = np.linspace(-5, 5, 51)\n",
    "\n",
    "\n",
    "\n",
    "for i in range(0,50):\n",
    "    for j in range(0,50):\n",
    "        Earray[i,j] = # Put your code here...\n",
    "\n",
    "\n",
    "from mpl_toolkits.mplot3d import Axes3D\n",
    "import matplotlib.pyplot as plt\n",
    "from matplotlib import cm\n",
    "from matplotlib.ticker import LinearLocator, FormatStrFormatter\n",
    "\n",
    "fig = plt.figure()\n",
    "ax = fig.gca(projection='3d')\n",
    "\n",
    "x00Grid, x1Grid = np.meshgrid(x0Array, x1Array)\n",
    "\n",
    "# Plot the surface.\n",
    "surf = ax.plot_surface(x0Grid, x1Grid, Earray, cmap=cm.coolwarm,\n",
    "                       linewidth=0, antialiased=False)\n",
    "\n",
    "# Add a color bar which maps values to colors.\n",
    "fig.colorbar(surf, shrink=0.5, aspect=5)\n",
    "plt.xlabel('beta0')\n",
    "plt.ylabel('beta1')\n",
    "plt.savefig('errorfunction.png')\n",
    "plt.show()\n"
   ]
  },
  {
   "cell_type": "markdown",
   "metadata": {},
   "source": [
    "# Minimizing the SSE function"
   ]
  },
  {
   "cell_type": "markdown",
   "metadata": {},
   "source": [
    "In order to compute the minimum of the function, we need to compute its derivative and set it to zero.\n",
    "The SSE function is given by: $$SSE(\\boldsymbol{w}) = (\\boldsymbol{y} - \\boldsymbol{X}\\boldsymbol{w})^T  (\\boldsymbol{y} - {\\boldsymbol{X}}{\\boldsymbol{w}}).$$\n",
    "We can again use the chain rule and introduce the auxiliary variable $\\boldsymbol u = (\\boldsymbol{y} - {\\boldsymbol{X}}{\\boldsymbol{w}})$. The SSE is then given by \n",
    "$$SSE({\\boldsymbol w}) = f(\\boldsymbol g({\\boldsymbol w})),$$\n",
    "with $f(\\boldsymbol{u}) = \\boldsymbol{u}^T\\boldsymbol{u}$ and $\\boldsymbol{u} = \\boldsymbol{g}({ \\boldsymbol{w}})= (\\boldsymbol{y} - {\\boldsymbol{X}}{\\boldsymbol{w}}) $"
   ]
  },
  {
   "cell_type": "markdown",
   "metadata": {},
   "source": [
    "* Compute derivative of $f$: $$ \\frac{\\partial  f(\\boldsymbol u)}{\\partial \\boldsymbol u} = \\frac{\\partial  (\\boldsymbol u^T \\boldsymbol u)}{\\partial \\boldsymbol u}= 2 \\boldsymbol u^T.$$\n",
    "* Compute derivative of $\\boldsymbol u$: $$ \\frac{\\partial  \\boldsymbol u}{\\partial \\boldsymbol{w}} = \\frac{\\partial (\\boldsymbol{y} - \\boldsymbol{X}\\boldsymbol{w}) }{\\partial  \\boldsymbol{w}} = - \\boldsymbol{X}.$$\n",
    "* Final Result:\n",
    "$$ \\frac{\\partial f(\\boldsymbol g( \\boldsymbol{w})) }{\\partial \\boldsymbol{w} } = \\frac{\\partial  f( \\boldsymbol u)}{\\partial \\boldsymbol u} \\frac{\\partial \\boldsymbol u}{\\partial \\boldsymbol{w}} = - 2 \\boldsymbol u^T \\boldsymbol{X} = - 2(\\boldsymbol{y} - \\boldsymbol{X}\\boldsymbol{w})^T \\boldsymbol{X}. $$"
   ]
  },
  {
   "cell_type": "markdown",
   "metadata": {},
   "source": [
    "### Gradient Descent to find the parameters\n",
    "We have the gradient vector and so can find the optimal parameters using Gradient Descent algorithm.\n",
    "You can now write the gradient descent algorithm code to find the weights."
   ]
  },
  {
   "cell_type": "code",
   "execution_count": null,
   "metadata": {
    "collapsed": true
   },
   "outputs": [],
   "source": [
    "# put you code here"
   ]
  },
  {
   "cell_type": "code",
   "execution_count": null,
   "metadata": {},
   "outputs": [],
   "source": [
    "Compute SSE\n",
    "error = y_train -X.dot(w_new)\n",
    "SSE = error.dot(error)\n",
    "SSE"
   ]
  },
  {
   "cell_type": "markdown",
   "metadata": {},
   "source": [
    "In the following you will see that the weights can be explicitly found by setting the gradient to zero."
   ]
  },
  {
   "cell_type": "markdown",
   "metadata": {},
   "source": [
    "### Solving for the parameters\n",
    "\n",
    "We now need to set the derivative to $0$, i.e., \n",
    "$$\\frac{\\partial SSE( {\\boldsymbol{w}})}{\\partial {\\boldsymbol{w}}} = \\boldsymbol 0.$$\n",
    "Hence, the derivative w.r.t every dimension should be zero. Now, we solve for ${\\boldsymbol{w}}$ using the following steps:\n",
    "* Cancel constant factors:"
   ]
  },
  {
   "cell_type": "markdown",
   "metadata": {},
   "source": [
    "$$(\\boldsymbol{y} - {\\boldsymbol{X}}{\\boldsymbol{w}})^T {\\boldsymbol{X}} = \\boldsymbol 0. $$\n",
    "* Transpose on both sides (using $(\\boldsymbol{A} \\boldsymbol{B})^T = \\boldsymbol{B}^T \\boldsymbol{A}^T$): "
   ]
  },
  {
   "cell_type": "markdown",
   "metadata": {},
   "source": [
    "$${\\boldsymbol{X}}^T(\\boldsymbol{y} - {\\boldsymbol{X}}{\\boldsymbol{w}}) = \\boldsymbol 0 $$\n",
    "* Multiply out brackets"
   ]
  },
  {
   "cell_type": "markdown",
   "metadata": {},
   "source": [
    "$${\\boldsymbol{X}}^T\\boldsymbol{y} - {\\boldsymbol{X}}^T {\\boldsymbol{X}}{\\boldsymbol{w}} = \\boldsymbol 0 $$\n",
    "* Bring ${\\boldsymbol{X}}^T\\boldsymbol{y}$ on other side"
   ]
  },
  {
   "cell_type": "markdown",
   "metadata": {},
   "source": [
    "$${\\boldsymbol{X}}^T {\\boldsymbol{X}}{\\boldsymbol{w}} = {\\boldsymbol{X}}^T\\boldsymbol{y}$$\n",
    "\n",
    "* Multiply both sides by the inverse of ${\\boldsymbol{X}}^T {\\boldsymbol{X}}$ (multiply on the left)"
   ]
  },
  {
   "cell_type": "markdown",
   "metadata": {},
   "source": [
    "$${\\boldsymbol{w}} = ({\\boldsymbol{X}}^T {\\boldsymbol{X}})^{-1} {\\boldsymbol{X}}^T\\boldsymbol{y}$$\n"
   ]
  },
  {
   "cell_type": "markdown",
   "metadata": {},
   "source": [
    "## The least squares solution"
   ]
  },
  {
   "cell_type": "markdown",
   "metadata": {},
   "source": [
    "The least squares solution is given by:\n",
    "$${\\boldsymbol{w}} = ({\\boldsymbol{X}}^T {\\boldsymbol{X}})^{-1} {\\boldsymbol{X}}^T\\boldsymbol{y}$$"
   ]
  },
  {
   "cell_type": "markdown",
   "metadata": {},
   "source": [
    "* ** Note: ** The term $({\\boldsymbol{X}}^T{\\boldsymbol{X}})^{-1}{\\boldsymbol{X}}^T$ is called the pseudo inverse of matrix ${\\boldsymbol{X}}$. It is used to invert non-square matrices that could not be inverted otherwise."
   ]
  },
  {
   "cell_type": "markdown",
   "metadata": {},
   "source": [
    "## Exercise 2 - Implementation in python"
   ]
  },
  {
   "cell_type": "markdown",
   "metadata": {},
   "source": [
    "We now want to implement the least squares solution that is given above in python. First, construct the Xtilde matrix.\n",
    "Subsequently implement the least squares solution. Try to avoud the linalg.inv method but use the numerically more stable linalg.solve \n",
    "method instead. \n",
    "* Plot again the training data, ground truth and prediction with the optimal least squares solution\n",
    "* What is the SSE of the optimal solution? \n",
    "* Compare your solution to the solution we have found in previous worshop with the grid search. How much do we \n",
    "do better now?"
   ]
  },
  {
   "cell_type": "code",
   "execution_count": null,
   "metadata": {
    "collapsed": true,
    "scrolled": true
   },
   "outputs": [],
   "source": [
    "# Check wether we still have Xtilde (otherwise we need to rerun all scripts)\n",
    "X"
   ]
  },
  {
   "cell_type": "code",
   "execution_count": null,
   "metadata": {
    "collapsed": true
   },
   "outputs": [],
   "source": [
    "import numpy.linalg as linalg\n",
    "\n",
    "w = # put your code here (you can also define additional variables if you want...)\n",
    "w"
   ]
  },
  {
   "cell_type": "code",
   "execution_count": 1,
   "metadata": {},
   "outputs": [
    {
     "ename": "SyntaxError",
     "evalue": "invalid syntax (<ipython-input-1-1dde63649b70>, line 6)",
     "output_type": "error",
     "traceback": [
      "\u001b[1;36m  File \u001b[1;32m\"<ipython-input-1-1dde63649b70>\"\u001b[1;36m, line \u001b[1;32m6\u001b[0m\n\u001b[1;33m    ytest_predicted = # Put your code here...\u001b[0m\n\u001b[1;37m                                             ^\u001b[0m\n\u001b[1;31mSyntaxError\u001b[0m\u001b[1;31m:\u001b[0m invalid syntax\n"
     ]
    }
   ],
   "source": [
    "# Lets plot our function\n",
    "\n",
    "import matplotlib.pyplot as plt\n",
    "\n",
    "Xtest = np.column_stack((np.ones(x_test.shape), x_test))\n",
    "ytest_predicted = # Put your code here...\n",
    "\n",
    "plt.figure()\n",
    "plt.plot(x_test,y_test, 'g')\n",
    "plt.plot(x_test, ytest_predicted, 'r')\n",
    "plt.plot(x_train,y_train, 'bo')\n",
    "plt.legend(('training points', 'ground truth', 'prediction'), loc = 'lower right')\n",
    "plt.hold(True)\n",
    "plt.savefig('regression_LSS.png')\n",
    "plt.show()"
   ]
  },
  {
   "cell_type": "markdown",
   "metadata": {},
   "source": [
    "We can now compute  the error on the training set"
   ]
  },
  {
   "cell_type": "code",
   "execution_count": null,
   "metadata": {
    "collapsed": true
   },
   "outputs": [],
   "source": [
    "error = # Put your code here\n",
    "SSE = # Put your code here\n",
    "SSE"
   ]
  },
  {
   "cell_type": "markdown",
   "metadata": {},
   "source": [
    "In comparison to the hand-picked line parameters from above, our error is approximately half. However, we can still see that the approximation is far from perfect. The ground truth can not be represented by a line, so we will always have a rather large approximation error. "
   ]
  },
  {
   "cell_type": "markdown",
   "metadata": {},
   "source": [
    "# Polynomial Regression"
   ]
  },
  {
   "cell_type": "markdown",
   "metadata": {},
   "source": [
    "Instead of fitting a line, we can also fit a polynomial. We want to fit $d$th order polynomials which are given by\n",
    "$$\\hat y = w_0 + \\sum_{i = 1}^d w_i x^i$$\n",
    "Note that, while $\\hat y$ is now non-linear in $x$, it is still linear in the parameters $w_i$. Hence, we can still apply linear regression here!"
   ]
  },
  {
   "cell_type": "markdown",
   "metadata": {},
   "source": [
    " ## Setting up the data matrix\n",
    " We can still describe $\\hat{y}$ as a scalar product, i.e.,\n",
    " $$\\hat{y} = w_0 + \\sum_{i = 1}^n w_i x^i = \\boldsymbol{x}^T\\boldsymbol{w}, \\textrm{ with } {\\boldsymbol{x}} = \\left[\\begin{array}{c} 1 \\\\ x^1 \\\\ x^2 \\\\ \\vdots \\\\ x^d  \\end{array}\\right] \\textrm{ and } {\\boldsymbol{w}} = \\left[\\begin{array}{c} w_0 \\\\ \\vdots \\\\ w_{d+1}  \\end{array}\\right]$$\n",
    " "
   ]
  },
  {
   "cell_type": "markdown",
   "metadata": {},
   "source": [
    "### Setting up the data matrix in python"
   ]
  },
  {
   "cell_type": "markdown",
   "metadata": {},
   "source": [
    "In python, we write a small function that does the feature expansion up to a certain degree for a given data set x."
   ]
  },
  {
   "cell_type": "code",
   "execution_count": null,
   "metadata": {
    "collapsed": true,
    "scrolled": true
   },
   "outputs": [],
   "source": [
    "def getPolynomialDataMatrix(x, degree):\n",
    "    X = np.ones(x.shape)\n",
    "    for i in range(1,degree + 1):\n",
    "        X = np.column_stack((X, x ** i))\n",
    "    return X\n",
    "    \n",
    "print(getPolynomialDataMatrix(x_train, 4))"
   ]
  },
  {
   "cell_type": "markdown",
   "metadata": {},
   "source": [
    "## Exercise 3: Fit Polynomials with different degrees\n",
    "We now want to test different polynomials and see which one fits our data best. First, implement a function \n",
    "that computes the optimal beta values given the input data x, output data y and the desired degree of the polynomial. Reuse the getPolynomialDataMatrix given above in your function."
   ]
  },
  {
   "cell_type": "code",
   "execution_count": null,
   "metadata": {
    "collapsed": true
   },
   "outputs": [],
   "source": [
    "import numpy.linalg as linalg\n",
    "\n",
    "def getWeightsForPolynomialFit(x,y,degree):\n",
    "    X = getPolynomialDataMatrix(x, degree)\n",
    " \n",
    "    w = # Put your code here\n",
    "\n",
    "    return w"
   ]
  },
  {
   "cell_type": "markdown",
   "metadata": {},
   "source": [
    "Given your getBetaForPolynomialFit function, plot the fitted function for a polynomial 1st, 2nd, 3rd and 4th degree.\n",
    "Can we now fit the structure of the function better?"
   ]
  },
  {
   "cell_type": "code",
   "execution_count": null,
   "metadata": {
    "collapsed": true
   },
   "outputs": [],
   "source": [
    "# Lets plot our polynomials function\n",
    "\n",
    "import matplotlib.pyplot as plt\n",
    "\n",
    "plt.figure()\n",
    "plt.plot(x_test,y_test, 'g')\n",
    "plt.plot(x_train,y_train, 'bo')\n",
    "\n",
    "ytest1 = # Put your code for 1st degree predictions\n",
    "plt.plot(x_test, ytest1, 'r')\n",
    "\n",
    "ytest2 = # Put your code for 1st degree predictions\n",
    "plt.plot(x_test, ytest2, 'g')\n",
    "\n",
    "ytest3 = # Put your code for 1st degree predictions\n",
    "plt.plot(x_test, ytest3, 'm')\n",
    "\n",
    "ytest4 = # Put your code for 1st degree predictions\n",
    "plt.plot(x_test, ytest4, 'c')\n",
    "\n",
    "plt.legend(('training points', 'ground truth', '$x$', '$x^2$', '$x^3$', '$x^4$'), loc = 'lower right')\n",
    "\n",
    "plt.savefig('polynomial.png')"
   ]
  },
  {
   "cell_type": "markdown",
   "metadata": {},
   "source": [
    "As we can see, the predictions for 3rd and 4th order are already quite good. Lets see what happens if we increase \n",
    "the order of the polynomial. Repeat the same plots for for example 7, 10 and 12th order polynomials."
   ]
  },
  {
   "cell_type": "code",
   "execution_count": null,
   "metadata": {
    "collapsed": true
   },
   "outputs": [],
   "source": [
    "# Lets plot our polynomials function\n",
    "\n",
    "import matplotlib.pyplot as plt\n",
    "\n",
    "plt.figure()\n",
    "plt.plot(x_test,y_test, 'g')\n",
    "plt.plot(x_train,y_train, 'bo')\n",
    "\n",
    "\n",
    "ytest7 = # Put your code for 1st degree predictions\n",
    "plt.plot(x_test, ytest7, 'r')\n",
    "\n",
    "ytest10 = # Put your code for 1st degree predictions\n",
    "plt.plot(x_test, ytest10, 'c')\n",
    "\n",
    "ytest12 = # Put your code for 1st degree predictions\n",
    "plt.plot(x_test, ytest12, 'm')\n",
    "\n",
    "plt.ylim((-200, 200))\n",
    "plt.legend(('training points', 'ground truth', '$x^{7}$', '$x^{10}$', '$x^{12}$'), loc = 'lower right')\n",
    "\n",
    "plt.savefig('polynomial1.png')"
   ]
  },
  {
   "cell_type": "markdown",
   "metadata": {},
   "source": [
    "We can clearly see that the prediction performance of our polynomials degrade. Why is that? \n",
    "This effect is called overfitting. We have too many data dimensions and too little data in order to fit the polynomial. Overfitting can have 2 bad effects:\n",
    "* We fit the noise in the data\n",
    "* The function 'does what it wants' between the data points. It is underspecified what the function should do between the data points. \n",
    "\n",
    "However, for the training data, the fit is actually almost perfect. Thats another characteristic of overfitting!"
   ]
  },
  {
   "cell_type": "markdown",
   "metadata": {},
   "source": [
    "## Exercise 4: Evaluating the Models\n",
    "We now want to evaluate the learned models to see which one works best. To do so, we compare polynomials of order\n",
    "1 to 12. Compute the squarred error on the training and on the test set for each of these polynomials and plot them \n",
    "as a function of the degree of the polynomial. Due to the huge differences in the error, use a log-scale plot for the y-axis (see pyplot.semilogy) What are your observations? "
   ]
  },
  {
   "cell_type": "code",
   "execution_count": null,
   "metadata": {
    "collapsed": true
   },
   "outputs": [],
   "source": [
    "SSEtrain = np.zeros((11,1))\n",
    "SSEtest = np.zeros((11,1))\n",
    "\n",
    "\n",
    "# Feel free to use the functions getWeightsForPolynomialFit and getPolynomialDataMatrix\n",
    "for i in range(1,12):\n",
    "    \n",
    "    Xtrain = # Put your code here \n",
    "    Xtest = # Put your code here \n",
    "    \n",
    "    w = # Put your code here  \n",
    "    \n",
    "    SSEtrain[i - 1] = # Put your code here\n",
    "    SSEtest[i - 1] = # Put your code here"
   ]
  },
  {
   "cell_type": "code",
   "execution_count": null,
   "metadata": {
    "collapsed": true
   },
   "outputs": [],
   "source": [
    "# Execute this...\n",
    "import matplotlib.pyplot as plt\n",
    "\n",
    "plt.figure();\n",
    "plt.semilogy(range(1,12), SSEtrain)\n",
    "plt.semilogy(range(1,12), SSEtest)\n",
    "plt.legend(('SSE on training set', 'SSE on test set'))\n",
    "plt.savefig('polynomial_evaluation.png')\n",
    "plt.show()"
   ]
  },
  {
   "cell_type": "markdown",
   "metadata": {},
   "source": [
    "## Overfitting / Under-Fitting\n",
    "We can see that, while the training error decreases with a larger degree of the polynomial, the test set error\n",
    "significantly increases (which is the one we are interested in). This is a typical behavior we get for overfitting. \n",
    "We can make the following conclusions:\n",
    "* In order to fit the data well, we have to find the right model complexity\n",
    "* **Over-fitting:** The model-complexity is too high (degree > 4). We fit the noise and not the data\n",
    "* **Under-fitting:** The model-complexity is too low (degree < 3). We can not represent the data well enough.\n",
    "* For choosing the optimal model, we always have to consider the error on an independent test set not on the training set\n",
    "* On the training set, the error can be arbitrarily good. This is only an indication that the algorithm has learned the example by heart, not that it can generalize to new samples."
   ]
  }
 ],
 "metadata": {
  "anaconda-cloud": {},
  "interpreter": {
   "hash": "2643b21548046d15c407d4e1b44e85a0fc36f93eebbe68d0530dbaa6b88b17ec"
  },
  "kernelspec": {
   "display_name": "Python 3.8.8 64-bit ('base': conda)",
   "name": "python3"
  },
  "language_info": {
   "codemirror_mode": {
    "name": "ipython",
    "version": 3
   },
   "file_extension": ".py",
   "mimetype": "text/x-python",
   "name": "python",
   "nbconvert_exporter": "python",
   "pygments_lexer": "ipython3",
   "version": "3.8.8"
  }
 },
 "nbformat": 4,
 "nbformat_minor": 2
}
